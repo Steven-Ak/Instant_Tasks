{
  "cells": [
    {
      "cell_type": "markdown",
      "id": "ff38aad7",
      "metadata": {
        "id": "ff38aad7"
      },
      "source": [
        "### 1-Write a Python program that takes two numbers as user input and performs addition on them."
      ]
    },
    {
      "cell_type": "code",
      "execution_count": null,
      "id": "91696b79",
      "metadata": {
        "id": "91696b79",
        "outputId": "79fe23b4-cae0-4e2b-8012-3aab20489075",
        "colab": {
          "base_uri": "https://localhost:8080/"
        }
      },
      "outputs": [
        {
          "output_type": "stream",
          "name": "stdout",
          "text": [
            "Enter the first number: 6\n",
            "Enter the second number: 3\n",
            "The sum = 9\n"
          ]
        }
      ],
      "source": [
        "def sumtwo(x,y):\n",
        "  print(f\"The sum = {x + y}\")\n",
        "\n",
        "\n",
        "num1 = int(input(\"Enter the first number: \"))\n",
        "num2 = int(input(\"Enter the second number: \"))\n",
        "sumtwo(num1, num2)"
      ]
    },
    {
      "cell_type": "markdown",
      "id": "360854ff",
      "metadata": {
        "id": "360854ff"
      },
      "source": [
        "### 2-Write a Python program that takes an integer as input and checks if it is even or odd. Print \"Even\" if the number is divisible by 2, otherwise print \"Odd\"."
      ]
    },
    {
      "cell_type": "code",
      "execution_count": null,
      "id": "ee4c35fe",
      "metadata": {
        "ExecuteTime": {
          "end_time": "2023-07-23T21:35:24.351946Z",
          "start_time": "2023-07-23T21:35:23.287212Z"
        },
        "id": "ee4c35fe",
        "outputId": "00849ffa-fb75-4b0b-e9b2-e88d8a3dfa24",
        "colab": {
          "base_uri": "https://localhost:8080/"
        }
      },
      "outputs": [
        {
          "output_type": "stream",
          "name": "stdout",
          "text": [
            "Enter a number: 4\n",
            "4 is an even number\n"
          ]
        }
      ],
      "source": [
        "def evenOrOdd(x):\n",
        "  if x % 2 == 0:\n",
        "    print(f\"{x} is an even number\")\n",
        "  else:\n",
        "    print(f\"{x} is an odd number\")\n",
        "\n",
        "\n",
        "num = int(input(\"Enter a number: \"))\n",
        "evenOrOdd(num)"
      ]
    },
    {
      "cell_type": "code",
      "execution_count": null,
      "id": "24616afc",
      "metadata": {
        "id": "24616afc"
      },
      "outputs": [],
      "source": []
    },
    {
      "cell_type": "markdown",
      "id": "6ea0354c",
      "metadata": {
        "id": "6ea0354c"
      },
      "source": [
        "### 3-Write a Python program that prints all the even numbers from 1 to 20 using a for loop"
      ]
    },
    {
      "cell_type": "code",
      "execution_count": null,
      "id": "df43b7f5",
      "metadata": {
        "ExecuteTime": {
          "end_time": "2023-07-23T21:36:51.373589Z",
          "start_time": "2023-07-23T21:36:51.365580Z"
        },
        "id": "df43b7f5",
        "outputId": "25e97a3a-aca4-49a5-f384-7a34da2eaa48",
        "colab": {
          "base_uri": "https://localhost:8080/"
        }
      },
      "outputs": [
        {
          "output_type": "stream",
          "name": "stdout",
          "text": [
            "2\n",
            "4\n",
            "6\n",
            "8\n",
            "10\n",
            "12\n",
            "14\n",
            "16\n",
            "18\n",
            "20\n"
          ]
        }
      ],
      "source": [
        "for i in range(1,21):\n",
        "  if i % 2 == 0:\n",
        "    print(i)"
      ]
    },
    {
      "cell_type": "code",
      "execution_count": null,
      "id": "cc16a5c2",
      "metadata": {
        "ExecuteTime": {
          "end_time": "2023-07-23T22:04:21.481350Z",
          "start_time": "2023-07-23T22:04:21.452242Z"
        },
        "id": "cc16a5c2"
      },
      "outputs": [],
      "source": []
    },
    {
      "cell_type": "code",
      "execution_count": null,
      "id": "7b7ee5e8",
      "metadata": {
        "id": "7b7ee5e8"
      },
      "outputs": [],
      "source": []
    },
    {
      "cell_type": "markdown",
      "id": "2d66bab2",
      "metadata": {
        "id": "2d66bab2"
      },
      "source": [
        "### 4-Write a Python function that takes a string as input and counts the number of vowels (a, e, i, o, u) in the string. The function should return the count"
      ]
    },
    {
      "cell_type": "code",
      "execution_count": null,
      "id": "a37a84fd",
      "metadata": {
        "ExecuteTime": {
          "end_time": "2023-07-23T21:45:58.522044Z",
          "start_time": "2023-07-23T21:45:58.514370Z"
        },
        "id": "a37a84fd",
        "outputId": "c5095c1f-8a76-4060-ebbf-19694e14bfcf",
        "colab": {
          "base_uri": "https://localhost:8080/"
        }
      },
      "outputs": [
        {
          "name": "stdout",
          "output_type": "stream",
          "text": [
            "Enter a string: Iam Steven\n"
          ]
        },
        {
          "output_type": "execute_result",
          "data": {
            "text/plain": [
              "4"
            ]
          },
          "metadata": {},
          "execution_count": 11
        }
      ],
      "source": [
        "def vowels(s):\n",
        "  count = 0\n",
        "  vow = \"aeiouAEIOU\"\n",
        "  for i in s:\n",
        "    if i in vow:\n",
        "      count+=1\n",
        "  return count\n",
        "\n",
        "\n",
        "strr = input(\"Enter a string: \")\n",
        "vowels(strr)"
      ]
    },
    {
      "cell_type": "code",
      "execution_count": null,
      "id": "2eb8e4de",
      "metadata": {
        "ExecuteTime": {
          "end_time": "2023-07-23T23:56:27.324204Z",
          "start_time": "2023-07-23T23:56:26.972092Z"
        },
        "id": "2eb8e4de"
      },
      "outputs": [],
      "source": []
    },
    {
      "cell_type": "code",
      "execution_count": null,
      "id": "24105679",
      "metadata": {
        "ExecuteTime": {
          "end_time": "2023-07-23T21:43:41.353283Z",
          "start_time": "2023-07-23T21:43:41.332496Z"
        },
        "id": "24105679"
      },
      "outputs": [],
      "source": []
    },
    {
      "cell_type": "markdown",
      "id": "a9a0ea06",
      "metadata": {
        "id": "a9a0ea06"
      },
      "source": [
        "### 5-Write a Python program that creates a list of numbers from 1 to 10. Use a loop to iterate over the list and print each number of power 2."
      ]
    },
    {
      "cell_type": "code",
      "execution_count": null,
      "id": "6fa658cf",
      "metadata": {
        "ExecuteTime": {
          "end_time": "2023-07-23T21:48:02.328880Z",
          "start_time": "2023-07-23T21:48:02.314313Z"
        },
        "id": "6fa658cf",
        "outputId": "e2151f77-9a08-411a-eb99-68d27b4159cf",
        "colab": {
          "base_uri": "https://localhost:8080/"
        }
      },
      "outputs": [
        {
          "output_type": "stream",
          "name": "stdout",
          "text": [
            "[1, 2, 3, 4, 5, 6, 7, 8, 9, 10]\n"
          ]
        }
      ],
      "source": [
        "nums = []\n",
        "for i in range(1,11):\n",
        "  nums.append(i)\n",
        "print(nums)"
      ]
    },
    {
      "cell_type": "code",
      "execution_count": null,
      "id": "f0e52d30",
      "metadata": {
        "ExecuteTime": {
          "end_time": "2023-07-15T16:20:03.747408Z",
          "start_time": "2023-07-15T16:20:03.740547Z"
        },
        "id": "f0e52d30",
        "outputId": "61489a47-7b59-4dcf-a20c-215b9adac65e",
        "colab": {
          "base_uri": "https://localhost:8080/"
        }
      },
      "outputs": [
        {
          "output_type": "stream",
          "name": "stdout",
          "text": [
            "power of 1 : 1\n",
            "power of 2 : 4\n",
            "power of 3 : 9\n",
            "power of 4 : 16\n",
            "power of 5 : 25\n",
            "power of 6 : 36\n",
            "power of 7 : 49\n",
            "power of 8 : 64\n",
            "power of 9 : 81\n",
            "power of 10 : 100\n"
          ]
        }
      ],
      "source": [
        "for i in nums:\n",
        "  print(f\"power of {i} : {i**2}\")"
      ]
    },
    {
      "cell_type": "markdown",
      "id": "430c9df9",
      "metadata": {
        "id": "430c9df9"
      },
      "source": [
        "### 6-Write a Python program that calculates the average grade for a student based on their scores in different subjects. The program should include the following steps:\n",
        "\n",
        "#### 1-Create variables to store the student's name, subject names, and corresponding scores. Initialize the variables with sample data.\n",
        "\n",
        "#### 2-Prompt the user to enter the student's name and assign it to the name variable.\n",
        "\n",
        "#### 3-Use a loop to prompt the user to enter the subject names and corresponding scores. Store the subject names in a list and the scores in another list.\n",
        "\n",
        "#### 4-After collecting the scores, calculate the average grade by summing up all the scores and dividing by the total number of subjects.\n",
        "\n",
        "#### 5-Check if the average grade is above a 70, print a congratulatory message. Otherwise, print an encouragement message."
      ]
    },
    {
      "cell_type": "code",
      "execution_count": null,
      "id": "e0254271",
      "metadata": {
        "ExecuteTime": {
          "end_time": "2023-07-15T16:16:17.066909Z",
          "start_time": "2023-07-15T16:16:07.636799Z"
        },
        "id": "e0254271",
        "outputId": "0700b3db-a76f-4b65-ebca-c8b9eba3aceb",
        "colab": {
          "base_uri": "https://localhost:8080/"
        }
      },
      "outputs": [
        {
          "output_type": "stream",
          "name": "stdout",
          "text": [
            "Enter your name: Steven\n",
            "How many subjects do you have? 6\n",
            "Enter your subjects: Ai\n",
            "Enter your score: 95\n",
            "Enter your subjects: Cs\n",
            "Enter your score: 87\n",
            "Enter your subjects: database\n",
            "Enter your score: 76\n",
            "Enter your subjects: logic\n",
            "Enter your score: 55\n",
            "Enter your subjects: network\n",
            "Enter your score: 73\n",
            "Enter your subjects: oop\n",
            "Enter your score: 66\n",
            "['Ai', 'Cs', 'database', 'logic', 'network', 'oop']\n",
            "[95, 87, 76, 55, 73, 66]\n",
            "Average Score: 75.33333333333333\n",
            "Congratulations Steven you achived a high grade\n"
          ]
        }
      ],
      "source": [
        "sname = input(\"Enter your name: \")\n",
        "n = int(input(\"How many subjects do you have? \"))\n",
        "subject = []\n",
        "score = []\n",
        "\n",
        "for i in range(n):\n",
        "  subject.append(input(\"Enter your subjects: \"))\n",
        "  score.append(int(input(\"Enter your score: \")))\n",
        "print(subject)\n",
        "print(score)\n",
        "\n",
        "avgSum = sum(score)/len(score)\n",
        "print(f\"Average Score: {avgSum}\")\n",
        "\n",
        "if avgSum > 70:\n",
        "  print(f\"Congratulations {sname} you achived a high grade\")\n",
        "else:\n",
        "  print(f\"Keep improving your grade {sname}\")"
      ]
    },
    {
      "cell_type": "code",
      "execution_count": null,
      "id": "37b3ff97",
      "metadata": {
        "ExecuteTime": {
          "end_time": "2023-07-23T21:56:24.493717Z",
          "start_time": "2023-07-23T21:56:17.227071Z"
        },
        "id": "37b3ff97"
      },
      "outputs": [],
      "source": []
    },
    {
      "cell_type": "markdown",
      "id": "ae9df360",
      "metadata": {
        "id": "ae9df360"
      },
      "source": [
        "### 7-Find Common Elements\n",
        "### Write a Python function that takes two lists as input and returns a new list containing the common elements present in both lists."
      ]
    },
    {
      "cell_type": "code",
      "execution_count": null,
      "id": "d030c3c0",
      "metadata": {
        "ExecuteTime": {
          "end_time": "2023-07-23T22:08:16.794474Z",
          "start_time": "2023-07-23T22:08:16.775639Z"
        },
        "id": "d030c3c0"
      },
      "outputs": [],
      "source": [
        "def common(list1,list2):\n",
        "  count = 0\n",
        "  com = []\n",
        "  for i in list1:\n",
        "    if i in list2 and i not in com:\n",
        "      com.append(i)\n",
        "  return com"
      ]
    },
    {
      "cell_type": "code",
      "execution_count": null,
      "id": "371369cd",
      "metadata": {
        "ExecuteTime": {
          "end_time": "2023-07-23T23:56:27.326200Z",
          "start_time": "2023-07-23T23:56:27.326200Z"
        },
        "id": "371369cd",
        "outputId": "d4ee6700-fccf-41b8-af92-100748891988",
        "colab": {
          "base_uri": "https://localhost:8080/"
        }
      },
      "outputs": [
        {
          "output_type": "execute_result",
          "data": {
            "text/plain": [
              "[1, 3, 4]"
            ]
          },
          "metadata": {},
          "execution_count": 12
        }
      ],
      "source": [
        "l = [1,1,3,4]\n",
        "l2 = [1,4,2,3]\n",
        "common(l,l2)"
      ]
    },
    {
      "cell_type": "markdown",
      "id": "9a2f34cb",
      "metadata": {
        "id": "9a2f34cb"
      },
      "source": [
        "### 8-Write a Python function that takes a list of numbers and an element to remove from the list."
      ]
    },
    {
      "cell_type": "code",
      "execution_count": null,
      "id": "78de9fe8",
      "metadata": {
        "ExecuteTime": {
          "end_time": "2023-07-23T22:21:36.514592Z",
          "start_time": "2023-07-23T22:21:36.505437Z"
        },
        "id": "78de9fe8"
      },
      "outputs": [],
      "source": [
        "def elem(list,x):\n",
        "  for i in list:\n",
        "    if x in list:\n",
        "      list.remove(x)\n",
        "  return list"
      ]
    },
    {
      "cell_type": "code",
      "execution_count": null,
      "id": "d80aa813",
      "metadata": {
        "ExecuteTime": {
          "end_time": "2023-07-23T22:21:37.220121Z",
          "start_time": "2023-07-23T22:21:37.215586Z"
        },
        "id": "d80aa813",
        "outputId": "113a9d14-0ece-4c9c-cd05-d93d06227e65",
        "colab": {
          "base_uri": "https://localhost:8080/"
        }
      },
      "outputs": [
        {
          "output_type": "execute_result",
          "data": {
            "text/plain": [
              "[2, 5, 7, 8, 4]"
            ]
          },
          "metadata": {},
          "execution_count": 36
        }
      ],
      "source": [
        "l = [2,3,5,7,8,4,3]\n",
        "r = 3\n",
        "elem(l,r)"
      ]
    },
    {
      "cell_type": "code",
      "execution_count": null,
      "id": "3feaf264",
      "metadata": {
        "ExecuteTime": {
          "end_time": "2023-07-23T22:21:38.480436Z",
          "start_time": "2023-07-23T22:21:38.464574Z"
        },
        "id": "3feaf264"
      },
      "outputs": [],
      "source": []
    },
    {
      "cell_type": "markdown",
      "id": "f1658f3b",
      "metadata": {
        "ExecuteTime": {
          "end_time": "2023-07-23T22:18:08.230185Z",
          "start_time": "2023-07-23T22:18:08.224220Z"
        },
        "id": "f1658f3b"
      },
      "source": [
        "### 9-Given 4 numbers A, B, C and D. Print the last 2 digits from their Multiplication.\n",
        "### Example :\n",
        "### the Multiplication of 4 numbers is 5 * 7 * 2 * 4 = 280 so the answer will be the last 2 digits which are 80."
      ]
    },
    {
      "cell_type": "code",
      "execution_count": null,
      "id": "e3acbe03",
      "metadata": {
        "ExecuteTime": {
          "end_time": "2023-07-23T22:26:11.183016Z",
          "start_time": "2023-07-23T22:26:03.981069Z"
        },
        "id": "e3acbe03",
        "outputId": "1b61945f-6602-4f6c-b17e-087887ebf19b",
        "colab": {
          "base_uri": "https://localhost:8080/"
        }
      },
      "outputs": [
        {
          "name": "stdout",
          "output_type": "stream",
          "text": [
            "Enter a number: 5\n",
            "Enter a number: 7\n",
            "Enter a number: 2\n",
            "Enter a number: 4\n"
          ]
        },
        {
          "output_type": "execute_result",
          "data": {
            "text/plain": [
              "80"
            ]
          },
          "metadata": {},
          "execution_count": 42
        }
      ],
      "source": [
        "def last_two(a,b,c,d):\n",
        "  m = a*b*c*d\n",
        "  m %= 100\n",
        "  return m\n",
        "\n",
        "\n",
        "a = int(input(\"Enter a number: \"))\n",
        "b = int(input(\"Enter a number: \"))\n",
        "c = int(input(\"Enter a number: \"))\n",
        "d = int(input(\"Enter a number: \"))\n",
        "last_two(a, b, c, d)"
      ]
    },
    {
      "cell_type": "markdown",
      "id": "d7ab15bb",
      "metadata": {
        "ExecuteTime": {
          "end_time": "2023-07-23T22:26:14.833712Z",
          "start_time": "2023-07-23T22:26:14.819130Z"
        },
        "id": "d7ab15bb"
      },
      "source": [
        "### 10- Given a number X. Determine if the number is prime or not"
      ]
    },
    {
      "cell_type": "code",
      "execution_count": null,
      "id": "59b27f0a",
      "metadata": {
        "ExecuteTime": {
          "end_time": "2023-07-23T22:35:25.933766Z",
          "start_time": "2023-07-23T22:35:24.168681Z"
        },
        "id": "59b27f0a"
      },
      "outputs": [],
      "source": [
        "def prime(x):\n",
        "  f = False\n",
        "  if x == 1:\n",
        "    print(\"1 is not a prime number\")\n",
        "  elif num > 1:\n",
        "    for i in range(2,x):\n",
        "      if (x % i) == 0:\n",
        "        f = True\n",
        "        break\n",
        "  if f:\n",
        "    print(f\"{x} is not a prime number\")\n",
        "  else:\n",
        "    print(f\"{x} is a prime number\")"
      ]
    },
    {
      "cell_type": "code",
      "execution_count": null,
      "id": "03f6ff0e",
      "metadata": {
        "id": "03f6ff0e",
        "colab": {
          "base_uri": "https://localhost:8080/"
        },
        "outputId": "4e5019da-7e3e-4c69-d8b6-9547df33d44d"
      },
      "outputs": [
        {
          "output_type": "stream",
          "name": "stdout",
          "text": [
            "Enter a number: 7\n",
            "7 is a prime number\n"
          ]
        }
      ],
      "source": [
        "num = int(input(\"Enter a number: \"))\n",
        "prime(num)"
      ]
    },
    {
      "cell_type": "markdown",
      "id": "e1d1dcf9",
      "metadata": {
        "id": "e1d1dcf9"
      },
      "source": [
        "### 11- Given a number N and a list A of N numbers. Determine if the number X exists in array A or not and print its position (0-index)."
      ]
    },
    {
      "cell_type": "code",
      "execution_count": null,
      "id": "2b002b0e",
      "metadata": {
        "ExecuteTime": {
          "end_time": "2023-07-23T22:53:41.474835Z",
          "start_time": "2023-07-23T22:53:41.458293Z"
        },
        "id": "2b002b0e",
        "colab": {
          "base_uri": "https://localhost:8080/"
        },
        "outputId": "da84dfa2-3751-426d-a2a9-613dd8069708"
      },
      "outputs": [
        {
          "output_type": "stream",
          "name": "stdout",
          "text": [
            "3 is in the array\n",
            "its index: 2\n"
          ]
        }
      ],
      "source": [
        "def find(n,a):\n",
        "  if n in a:\n",
        "    print(f\"{n} is in the array\")\n",
        "    print(f\"its index: {a.index(n)}\")\n",
        "  else:\n",
        "    print(f\"{n} is not in the array\")\n",
        "\n",
        "\n",
        "l = [1,2,3]\n",
        "n = 3\n",
        "find(n,l)"
      ]
    },
    {
      "cell_type": "markdown",
      "id": "f2ec854b",
      "metadata": {
        "id": "f2ec854b"
      },
      "source": [
        "### 12- Given a number N and a list A of N numbers. Determine if the array is lucky or not.\n",
        "\n",
        "#### Note: the array is lucky if the frequency (number of occurrence) of the minimum element is odd."
      ]
    },
    {
      "cell_type": "code",
      "execution_count": null,
      "id": "0c4f7f4b",
      "metadata": {
        "ExecuteTime": {
          "end_time": "2023-07-23T23:02:02.490192Z",
          "start_time": "2023-07-23T23:02:02.476874Z"
        },
        "id": "0c4f7f4b",
        "colab": {
          "base_uri": "https://localhost:8080/",
          "height": 104
        },
        "outputId": "3e9e418c-7a09-488a-ae40-6a267c4db953"
      },
      "outputs": [
        {
          "name": "stdout",
          "output_type": "stream",
          "text": [
            "Enter the number of array elements: 3\n",
            "Enter elements: 1\n",
            "Enter elements: 2\n",
            "Enter elements: 3\n"
          ]
        },
        {
          "output_type": "execute_result",
          "data": {
            "text/plain": [
              "'Array is lucky'"
            ],
            "application/vnd.google.colaboratory.intrinsic+json": {
              "type": "string"
            }
          },
          "metadata": {},
          "execution_count": 12
        }
      ],
      "source": [
        "def isLucky(l):\n",
        "  count = l.count(min(l))\n",
        "  if count % 2 == 0:\n",
        "    return \"Array is unlucky\"\n",
        "  else:\n",
        "    return \"Array is lucky\"\n",
        "\n",
        "\n",
        "arr = []\n",
        "n = int(input(\"Enter the number of array elements: \"))\n",
        "for i in range(n):\n",
        "  arr.append(int(input(\"Enter elements: \")))\n",
        "\n",
        "isLucky(arr)"
      ]
    },
    {
      "cell_type": "markdown",
      "id": "e1ce1ae5",
      "metadata": {
        "id": "e1ce1ae5"
      },
      "source": [
        "### 13-Given a number N and a list A of N numbers. Print the array after doing the following operations:\n",
        "\n",
        "#### Find minimum number in these numbers.\n",
        "#### Find maximum number in these numbers.\n",
        "##### Swap minimum number with maximum number."
      ]
    },
    {
      "cell_type": "code",
      "execution_count": null,
      "id": "e0d6e639",
      "metadata": {
        "ExecuteTime": {
          "end_time": "2023-07-23T23:10:04.293733Z",
          "start_time": "2023-07-23T23:10:04.280256Z"
        },
        "id": "e0d6e639",
        "colab": {
          "base_uri": "https://localhost:8080/"
        },
        "outputId": "37b2dc86-b950-4c81-e847-f6ac6097f87a"
      },
      "outputs": [
        {
          "output_type": "stream",
          "name": "stdout",
          "text": [
            "Enter the number of array elements: 6\n",
            "Enter elements: 4\n",
            "Enter elements: 3\n",
            "Enter elements: 6\n",
            "Enter elements: 8\n",
            "Enter elements: 10\n",
            "Enter elements: 7\n",
            "Before swapping [4, 3, 6, 8, 10, 7]\n",
            "Maximum number is 10 and minimum is 3\n",
            "After swapping [4, 10, 6, 8, 3, 7]\n"
          ]
        }
      ],
      "source": [
        "def opt(l):\n",
        "  print(f\"Maximum number is {max(l)} and minimum is {min(l)}\")\n",
        "  maxi = array.index(max(l))\n",
        "  mini = array.index(min(l))\n",
        "  array[maxi] , array[mini] = array[mini], array[maxi]\n",
        "\n",
        "\n",
        "array = []\n",
        "n = int(input(\"Enter the number of array elements: \"))\n",
        "for i in range(n):\n",
        "  array.append(int(input(\"Enter elements: \")))\n",
        "\n",
        "print(f\"Before swapping {array}\")\n",
        "opt(array)\n",
        "print(f\"After swapping {array}\")"
      ]
    },
    {
      "cell_type": "code",
      "execution_count": null,
      "id": "20165184",
      "metadata": {
        "ExecuteTime": {
          "end_time": "2023-07-23T23:10:04.651957Z",
          "start_time": "2023-07-23T23:10:04.648955Z"
        },
        "id": "20165184"
      },
      "outputs": [],
      "source": []
    },
    {
      "cell_type": "code",
      "execution_count": null,
      "id": "4e5ac998",
      "metadata": {
        "ExecuteTime": {
          "end_time": "2023-07-23T23:56:27.327202Z",
          "start_time": "2023-07-23T23:56:27.327202Z"
        },
        "id": "4e5ac998"
      },
      "outputs": [],
      "source": []
    },
    {
      "cell_type": "markdown",
      "id": "9eb8e9c5",
      "metadata": {
        "ExecuteTime": {
          "end_time": "2023-07-23T23:10:06.436833Z",
          "start_time": "2023-07-23T23:10:06.422086Z"
        },
        "id": "9eb8e9c5"
      },
      "source": [
        "### 14-Given a number N and an array A of N numbers. Print the lowest number and its position.\n",
        "\n",
        "### Note: if there are more than one answer print first one's position."
      ]
    },
    {
      "cell_type": "code",
      "execution_count": null,
      "id": "018e01c8",
      "metadata": {
        "ExecuteTime": {
          "end_time": "2023-07-23T23:20:38.498527Z",
          "start_time": "2023-07-23T23:20:38.490451Z"
        },
        "id": "018e01c8",
        "colab": {
          "base_uri": "https://localhost:8080/"
        },
        "outputId": "7e2fb55f-5fcc-44f8-ca17-2e0a626190c2"
      },
      "outputs": [
        {
          "output_type": "stream",
          "name": "stdout",
          "text": [
            "Enter the number of array elements: 5\n",
            "Enter elements: 34\n",
            "Enter elements: 64\n",
            "Enter elements: 76\n",
            "Enter elements: 23\n",
            "Enter elements: 43\n",
            "The lowest number is 23 and its index is 3\n"
          ]
        }
      ],
      "source": [
        "def low(l):\n",
        "  print(f\"The lowest number is {min(l)} and its index is {l.index(min(l))}\")\n",
        "\n",
        "arr = []\n",
        "n = int(input(\"Enter the number of array elements: \"))\n",
        "for i in range(n):\n",
        "  arr.append(int(input(\"Enter elements: \")))\n",
        "low(arr)"
      ]
    },
    {
      "cell_type": "code",
      "execution_count": null,
      "id": "477554c7",
      "metadata": {
        "ExecuteTime": {
          "end_time": "2023-07-23T23:20:55.126958Z",
          "start_time": "2023-07-23T23:20:55.120450Z"
        },
        "id": "477554c7"
      },
      "outputs": [],
      "source": []
    },
    {
      "cell_type": "code",
      "execution_count": null,
      "id": "27e032e4",
      "metadata": {
        "ExecuteTime": {
          "end_time": "2023-07-23T23:20:55.425024Z",
          "start_time": "2023-07-23T23:20:55.407711Z"
        },
        "id": "27e032e4"
      },
      "outputs": [],
      "source": []
    },
    {
      "cell_type": "markdown",
      "id": "f35d3427",
      "metadata": {
        "ExecuteTime": {
          "end_time": "2023-07-23T23:20:55.880128Z",
          "start_time": "2023-07-23T23:20:55.861804Z"
        },
        "id": "f35d3427"
      },
      "source": [
        "### 15-Given a number N and an array A of N numbers. Print the numbers after sorting them"
      ]
    },
    {
      "cell_type": "code",
      "execution_count": null,
      "id": "a6e0edd4",
      "metadata": {
        "ExecuteTime": {
          "end_time": "2023-07-23T23:46:13.340484Z",
          "start_time": "2023-07-23T23:46:13.324468Z"
        },
        "id": "a6e0edd4",
        "colab": {
          "base_uri": "https://localhost:8080/"
        },
        "outputId": "8a43f32d-c5fb-4d61-9c53-1cac578e02dc"
      },
      "outputs": [
        {
          "output_type": "stream",
          "name": "stdout",
          "text": [
            "Enter the number of array elements: 5\n",
            "Enter elements: 23\n",
            "Enter elements: 57\n",
            "Enter elements: 78\n",
            "Enter elements: 98\n",
            "Enter elements: 32\n",
            "Before sorting: [23, 57, 78, 98, 32]\n",
            "After sorting: [23, 32, 57, 78, 98]\n"
          ]
        }
      ],
      "source": [
        "def sort_arr(l):\n",
        "  print(f\"Before sorting: {l}\")\n",
        "  l.sort()\n",
        "  print(f\"After sorting: {l}\")\n",
        "\n",
        "arr = []\n",
        "n = int(input(\"Enter the number of array elements: \"))\n",
        "for i in range(n):\n",
        "  arr.append(int(input(\"Enter elements: \")))\n",
        "sort_arr(arr)"
      ]
    },
    {
      "cell_type": "code",
      "execution_count": null,
      "id": "38100d74",
      "metadata": {
        "ExecuteTime": {
          "end_time": "2023-07-23T23:46:14.343960Z",
          "start_time": "2023-07-23T23:46:14.325805Z"
        },
        "id": "38100d74"
      },
      "outputs": [],
      "source": []
    },
    {
      "cell_type": "markdown",
      "id": "a172f354",
      "metadata": {
        "ExecuteTime": {
          "end_time": "2023-07-23T23:46:15.127981Z",
          "start_time": "2023-07-23T23:46:15.108766Z"
        },
        "id": "a172f354"
      },
      "source": [
        "### 16- Write a Python program to remove spaces from a given string"
      ]
    },
    {
      "cell_type": "code",
      "execution_count": null,
      "id": "36d3569d",
      "metadata": {
        "ExecuteTime": {
          "end_time": "2023-07-23T23:50:06.443640Z",
          "start_time": "2023-07-23T23:50:01.592919Z"
        },
        "id": "36d3569d",
        "colab": {
          "base_uri": "https://localhost:8080/"
        },
        "outputId": "bc17c60e-96b1-4088-e902-d339c1d93bb6"
      },
      "outputs": [
        {
          "output_type": "stream",
          "name": "stdout",
          "text": [
            "Enter a string: Try this one\n",
            "Before removing spaces: Try this one\n",
            "After removing spaces: Trythisone\n"
          ]
        }
      ],
      "source": [
        "def remove_space(s):\n",
        "  print(f\"Before removing spaces: {s}\")\n",
        "  s = s.replace(\" \",\"\")\n",
        "  print(f\"After removing spaces: {s}\")\n",
        "\n",
        "strr = input(\"Enter a string: \")\n",
        "remove_space(strr)"
      ]
    },
    {
      "cell_type": "markdown",
      "id": "a5470d49",
      "metadata": {
        "id": "a5470d49"
      },
      "source": [
        "### 17-write a Python program to swap first and last element of any list."
      ]
    },
    {
      "cell_type": "code",
      "execution_count": null,
      "id": "9d73887b",
      "metadata": {
        "ExecuteTime": {
          "end_time": "2023-07-23T23:50:59.283429Z",
          "start_time": "2023-07-23T23:50:59.272096Z"
        },
        "id": "9d73887b",
        "colab": {
          "base_uri": "https://localhost:8080/"
        },
        "outputId": "a84b970a-061c-489f-9fd1-07c9f57481a5"
      },
      "outputs": [
        {
          "output_type": "stream",
          "name": "stdout",
          "text": [
            "Enter the number of array elements: 5\n",
            "Enter elements: 34\n",
            "Enter elements: 65\n",
            "Enter elements: 78\n",
            "Enter elements: 43\n",
            "Enter elements: 13\n",
            "Before swapping: [34, 65, 78, 43, 13]\n",
            "After swapping: [13, 65, 78, 43, 34]\n"
          ]
        }
      ],
      "source": [
        "def swap_f_l(l):\n",
        "  print(f\"Before swapping: {l}\")\n",
        "  l[0],l[-1] = l[-1],l[0]\n",
        "  print(f\"After swapping: {l}\")\n",
        "\n",
        "arr = []\n",
        "n = int(input(\"Enter the number of array elements: \"))\n",
        "for i in range(n):\n",
        "  arr.append(int(input(\"Enter elements: \")))\n",
        "swap_f_l(arr)"
      ]
    },
    {
      "cell_type": "code",
      "execution_count": null,
      "id": "faa49913",
      "metadata": {
        "ExecuteTime": {
          "end_time": "2023-07-23T23:51:31.917164Z",
          "start_time": "2023-07-23T23:51:31.900550Z"
        },
        "id": "faa49913"
      },
      "outputs": [],
      "source": []
    }
  ],
  "metadata": {
    "kernelspec": {
      "display_name": "Python 3 (ipykernel)",
      "language": "python",
      "name": "python3"
    },
    "language_info": {
      "codemirror_mode": {
        "name": "ipython",
        "version": 3
      },
      "file_extension": ".py",
      "mimetype": "text/x-python",
      "name": "python",
      "nbconvert_exporter": "python",
      "pygments_lexer": "ipython3",
      "version": "3.9.12"
    },
    "colab": {
      "provenance": []
    }
  },
  "nbformat": 4,
  "nbformat_minor": 5
}