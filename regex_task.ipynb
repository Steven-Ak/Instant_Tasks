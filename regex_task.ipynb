{
 "cells": [
  {
   "cell_type": "code",
   "execution_count": 91,
   "metadata": {},
   "outputs": [],
   "source": [
    "import re"
   ]
  },
  {
   "cell_type": "code",
   "execution_count": 92,
   "metadata": {},
   "outputs": [],
   "source": [
    "file_path = 'C:/Users/user/OneDrive/Desktop/task.txt'\n",
    "names = []\n",
    "numbers = []\n",
    "emails = []\n"
   ]
  },
  {
   "cell_type": "code",
   "execution_count": 93,
   "metadata": {},
   "outputs": [
    {
     "name": "stdout",
     "output_type": "stream",
     "text": [
      "['Ahmed Hafez 0102345678 ahmed@gmail.com\\n', 'Ali Osama 0124342342 ali@gmail.com']\n"
     ]
    }
   ],
   "source": [
    "with open(file_path, 'r') as file:\n",
    "    lines = file.readlines()\n",
    "print(lines)"
   ]
  },
  {
   "cell_type": "code",
   "execution_count": 94,
   "metadata": {},
   "outputs": [],
   "source": [
    "name_ptrn = r'[A-Za-z]+\\s[A-Za-z]+'\n",
    "number_ptrn = r'\\b\\d{10,11}\\b'\n",
    "email_ptrn = r'[a-zA-Z0-9_.+-]+@[a-zA-Z0-9-]+\\.[a-zA-Z0-9-.]+'"
   ]
  },
  {
   "cell_type": "code",
   "execution_count": 95,
   "metadata": {},
   "outputs": [],
   "source": [
    "for line in lines:\n",
    "    \n",
    "    namess = re.findall(name_ptrn, line)\n",
    "    emailss = re.findall(email_ptrn, line)\n",
    "    numberss = re.findall(number_ptrn, line)\n",
    "\n",
    "    names.extend(namess)\n",
    "    emails.extend(emailss)\n",
    "    numbers.extend(numberss)"
   ]
  },
  {
   "cell_type": "code",
   "execution_count": 96,
   "metadata": {},
   "outputs": [
    {
     "name": "stdout",
     "output_type": "stream",
     "text": [
      "['Ahmed Hafez', 'Ali Osama']\n",
      "['ahmed@gmail.com', 'ali@gmail.com']\n",
      "['0102345678', '0124342342']\n"
     ]
    }
   ],
   "source": [
    "print(names, emails, numbers, sep='\\n')"
   ]
  }
 ],
 "metadata": {
  "kernelspec": {
   "display_name": "Python 3",
   "language": "python",
   "name": "python3"
  },
  "language_info": {
   "codemirror_mode": {
    "name": "ipython",
    "version": 3
   },
   "file_extension": ".py",
   "mimetype": "text/x-python",
   "name": "python",
   "nbconvert_exporter": "python",
   "pygments_lexer": "ipython3",
   "version": "3.12.6"
  }
 },
 "nbformat": 4,
 "nbformat_minor": 2
}
